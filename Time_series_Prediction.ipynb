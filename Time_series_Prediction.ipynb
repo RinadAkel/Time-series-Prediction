{
  "nbformat": 4,
  "nbformat_minor": 0,
  "metadata": {
    "colab": {
      "provenance": [],
      "include_colab_link": true
    },
    "kernelspec": {
      "name": "python3",
      "display_name": "Python 3"
    },
    "accelerator": "GPU"
  },
  "cells": [
    {
      "cell_type": "markdown",
      "metadata": {
        "id": "view-in-github",
        "colab_type": "text"
      },
      "source": [
        "<a href=\"https://colab.research.google.com/github/RinadAkel/Time-series-Prediction/blob/main/Time_series_Prediction.ipynb\" target=\"_parent\"><img src=\"https://colab.research.google.com/assets/colab-badge.svg\" alt=\"Open In Colab\"/></a>"
      ]
    },
    {
      "cell_type": "markdown",
      "metadata": {
        "id": "oUGHpAd1pIel"
      },
      "source": [
        "© 2021 Zaka AI, Inc. All Rights Reserved"
      ]
    },
    {
      "cell_type": "markdown",
      "metadata": {
        "id": "jCZJ7MpmYBgW"
      },
      "source": [
        "# Time-series Prediction\n",
        "---\n",
        "## Case Study: Energy Consumption Prediction in Households\n",
        "\n",
        "**Objective:**\n",
        "\n",
        "In this exercise, you will learn proper practices of working with time-series data for prediction tasks.\n",
        "\n",
        "With this, you would have completed all fundamental concepts of building prediction models for time-series data.  \n",
        "\n",
        "---\n",
        "## Table of Contents \n",
        "\n",
        "### Section 1. Exploratory Data Analysis\n",
        "\n",
        "* 1.1: Data Loading and Understanding \n",
        "* 1.2: Data Cleaning \n",
        "* 1.3: Data Visualization\n",
        "\n",
        "### Section 2. Time-series Data Preparation for Forecasting\n",
        "\n",
        "### Section 3. Building Time-series Models\n",
        "\n",
        "### Section 4. Evaluating Time-series Models\n",
        "--- "
      ]
    },
    {
      "cell_type": "markdown",
      "metadata": {
        "id": "OiMK_J0cY_hS"
      },
      "source": [
        "## 0. Scenario, Problem & Dataset Description\n",
        "\n",
        "Today, you will dive into a dataset collected from a home in Paris, which we would like to use to **learn** and **make predictions** of the household owner's energy consumption patterns. The dataset collects 2,075,259 measurements between December 2006 and November 2010 (so we have 47 months of data to work with).\n",
        "\n",
        "### The data is collected from multiple smart meters and contains the following attributes/features:\n",
        "\n",
        "- date: Date in format dd/mm/yyyy\n",
        "\n",
        "- time: time in format hh:mm:ss\n",
        "\n",
        "- global_active_power: household global minute-averaged active power (in kilowatt)\n",
        "\n",
        "- global_reactive_power: household global minute-averaged reactive power (in kilowatt)\n",
        "\n",
        "- voltage: minute-averaged voltage (in volt)\n",
        "\n",
        "- global_intensity: household global minute-averaged current intensity (in ampere)\n",
        "\n",
        "- sub_metering_1: energy sub-metering No. 1 (in watt-hour of active energy). It corresponds to the kitchen, containing mainly a dishwasher, an oven and a microwave (hot plates are not electric but gas powered).\n",
        "\n",
        "- sub_metering_2: energy sub-metering No. 2 (in watt-hour of active energy). It corresponds to the laundry room, containing a washing-machine, a tumble-drier, a refrigerator and a light.\n",
        "\n",
        "- sub_metering_3: energy sub-metering No. 3 (in watt-hour of active energy). It corresponds to an electric water-heater and an air-conditioner.\n",
        "\n",
        "### Some notes we have about the dataset are:\n",
        "1.  (global_active_power*1000/60 - sub_metering_1 - sub_metering_2 - sub_metering_3) represents the active energy consumed every minute (in watt hour) in the household by electrical equipment not measured in sub-meterings 1, 2 and 3.\n",
        "\n",
        "2.   The dataset contains some missing values in the measurements (nearly 1.25% of the rows). All calendar timestamps are present in the dataset but for some timestamps, the measurement values are missing: a missing value is represented by the absence of value between two consecutive semi-colon attribute separators. For instance, the dataset shows *missing values on April 28, 2007*.\n",
        "\n",
        "You can find the dataset description [here](https://archive.ics.uci.edu/ml/datasets/individual+household+electric+power+consumption)."
      ]
    },
    {
      "cell_type": "markdown",
      "metadata": {
        "id": "X15s-QlQZUKi"
      },
      "source": [
        "# **1. Exploratory Data Analysis**\n",
        "\n",
        "### Importing Libraries \n",
        "\n",
        "First off, let's import the python libraries we know we'll typically be using.\n",
        "\n",
        "Some of the common ones are:\n",
        "\n",
        "*   [numpy](https://www.numpy.org/) - supports large, multidimensional arrays and has a lot of useful mathematical built-in functions to run on these arrays\n",
        "*   [pandas](https://pandas.pydata.org/) - offers high-performance, easy-to-use data structures (e.g. can store data of multiple types in one data structure)\n",
        "*   [matplotlib](https://matplotlib.org/) - 2D plotting library"
      ]
    },
    {
      "cell_type": "code",
      "metadata": {
        "id": "xe8XpLh2bd4a"
      },
      "source": [
        "import numpy as np  \n",
        "import pandas as pd\n",
        "import matplotlib.pyplot as plt \n",
        "\n",
        "import warnings\n",
        "warnings.filterwarnings('ignore')"
      ],
      "execution_count": null,
      "outputs": []
    },
    {
      "cell_type": "markdown",
      "metadata": {
        "id": "O-Yo3xW_bd_1"
      },
      "source": [
        "### Data Loading \n",
        "\n",
        "You can download the dataset [here](https://archive.ics.uci.edu/ml/datasets/individual+household+electric+power+consumption).\n",
        "\n",
        "We will be cloning and downloading the dataset from Github."
      ]
    },
    {
      "cell_type": "code",
      "metadata": {
        "id": "q_9pnjHHaf3R",
        "colab": {
          "base_uri": "https://localhost:8080/"
        },
        "outputId": "dde04215-c07c-40a2-88ee-b479dc448ea7"
      },
      "source": [
        "!git clone https://github.com/zaka-ai/time-series-course.git\n",
        "\n",
        "%cd time-series-course"
      ],
      "execution_count": null,
      "outputs": [
        {
          "output_type": "stream",
          "text": [
            "Cloning into 'time-series-course'...\n",
            "remote: Enumerating objects: 47, done.\u001b[K\n",
            "remote: Counting objects: 100% (8/8), done.\u001b[K\n",
            "remote: Compressing objects: 100% (8/8), done.\u001b[K\n",
            "remote: Total 47 (delta 2), reused 0 (delta 0), pack-reused 39\u001b[K\n",
            "Unpacking objects: 100% (47/47), done.\n",
            "Checking out files: 100% (30/30), done.\n",
            "/content/time-series-course\n"
          ],
          "name": "stdout"
        }
      ]
    },
    {
      "cell_type": "markdown",
      "metadata": {
        "id": "Ccw9YNy2T0DS"
      },
      "source": [
        "The data is in a ZIP file so we need to unzip first"
      ]
    },
    {
      "cell_type": "code",
      "metadata": {
        "colab": {
          "base_uri": "https://localhost:8080/"
        },
        "id": "a0BNkDV5T19s",
        "outputId": "a7cd56e8-3c57-4a98-9af8-197838d2bf77"
      },
      "source": [
        "!unzip household_power_consumption.txt.zip"
      ],
      "execution_count": null,
      "outputs": [
        {
          "output_type": "stream",
          "text": [
            "Archive:  household_power_consumption.txt.zip\n",
            "  inflating: household_power_consumption.txt  \n",
            "   creating: __MACOSX/\n",
            "  inflating: __MACOSX/._household_power_consumption.txt  \n"
          ],
          "name": "stdout"
        }
      ]
    },
    {
      "cell_type": "code",
      "metadata": {
        "id": "MNIj4D7zahmw",
        "colab": {
          "base_uri": "https://localhost:8080/",
          "height": 224
        },
        "outputId": "1f11436f-57e2-4b62-dda0-61a5dd7f122b"
      },
      "source": [
        "path_to_data = 'household_power_consumption.txt'\n",
        "data = pd.read_csv(path_to_data, sep=';') \n",
        "\n",
        "# quickly visualize - print first 5 rows\n",
        "data.head()   "
      ],
      "execution_count": null,
      "outputs": [
        {
          "output_type": "execute_result",
          "data": {
            "text/html": [
              "<div>\n",
              "<style scoped>\n",
              "    .dataframe tbody tr th:only-of-type {\n",
              "        vertical-align: middle;\n",
              "    }\n",
              "\n",
              "    .dataframe tbody tr th {\n",
              "        vertical-align: top;\n",
              "    }\n",
              "\n",
              "    .dataframe thead th {\n",
              "        text-align: right;\n",
              "    }\n",
              "</style>\n",
              "<table border=\"1\" class=\"dataframe\">\n",
              "  <thead>\n",
              "    <tr style=\"text-align: right;\">\n",
              "      <th></th>\n",
              "      <th>Date</th>\n",
              "      <th>Time</th>\n",
              "      <th>Global_active_power</th>\n",
              "      <th>Global_reactive_power</th>\n",
              "      <th>Voltage</th>\n",
              "      <th>Global_intensity</th>\n",
              "      <th>Sub_metering_1</th>\n",
              "      <th>Sub_metering_2</th>\n",
              "      <th>Sub_metering_3</th>\n",
              "    </tr>\n",
              "  </thead>\n",
              "  <tbody>\n",
              "    <tr>\n",
              "      <th>0</th>\n",
              "      <td>16/12/2006</td>\n",
              "      <td>17:24:00</td>\n",
              "      <td>4.216</td>\n",
              "      <td>0.418</td>\n",
              "      <td>234.840</td>\n",
              "      <td>18.400</td>\n",
              "      <td>0.000</td>\n",
              "      <td>1.000</td>\n",
              "      <td>17.0</td>\n",
              "    </tr>\n",
              "    <tr>\n",
              "      <th>1</th>\n",
              "      <td>16/12/2006</td>\n",
              "      <td>17:25:00</td>\n",
              "      <td>5.360</td>\n",
              "      <td>0.436</td>\n",
              "      <td>233.630</td>\n",
              "      <td>23.000</td>\n",
              "      <td>0.000</td>\n",
              "      <td>1.000</td>\n",
              "      <td>16.0</td>\n",
              "    </tr>\n",
              "    <tr>\n",
              "      <th>2</th>\n",
              "      <td>16/12/2006</td>\n",
              "      <td>17:26:00</td>\n",
              "      <td>5.374</td>\n",
              "      <td>0.498</td>\n",
              "      <td>233.290</td>\n",
              "      <td>23.000</td>\n",
              "      <td>0.000</td>\n",
              "      <td>2.000</td>\n",
              "      <td>17.0</td>\n",
              "    </tr>\n",
              "    <tr>\n",
              "      <th>3</th>\n",
              "      <td>16/12/2006</td>\n",
              "      <td>17:27:00</td>\n",
              "      <td>5.388</td>\n",
              "      <td>0.502</td>\n",
              "      <td>233.740</td>\n",
              "      <td>23.000</td>\n",
              "      <td>0.000</td>\n",
              "      <td>1.000</td>\n",
              "      <td>17.0</td>\n",
              "    </tr>\n",
              "    <tr>\n",
              "      <th>4</th>\n",
              "      <td>16/12/2006</td>\n",
              "      <td>17:28:00</td>\n",
              "      <td>3.666</td>\n",
              "      <td>0.528</td>\n",
              "      <td>235.680</td>\n",
              "      <td>15.800</td>\n",
              "      <td>0.000</td>\n",
              "      <td>1.000</td>\n",
              "      <td>17.0</td>\n",
              "    </tr>\n",
              "  </tbody>\n",
              "</table>\n",
              "</div>"
            ],
            "text/plain": [
              "         Date      Time  ... Sub_metering_2 Sub_metering_3\n",
              "0  16/12/2006  17:24:00  ...          1.000           17.0\n",
              "1  16/12/2006  17:25:00  ...          1.000           16.0\n",
              "2  16/12/2006  17:26:00  ...          2.000           17.0\n",
              "3  16/12/2006  17:27:00  ...          1.000           17.0\n",
              "4  16/12/2006  17:28:00  ...          1.000           17.0\n",
              "\n",
              "[5 rows x 9 columns]"
            ]
          },
          "metadata": {
            "tags": []
          },
          "execution_count": 4
        }
      ]
    },
    {
      "cell_type": "markdown",
      "metadata": {
        "id": "h3BKR81Is7E0"
      },
      "source": [
        "#### Some points to pay attention to:\n",
        "\n",
        "*   Our data is collected every minute. \n",
        "*   We have measurements collected in different units. \n",
        "*   What are our descriptors? What is our target?\n",
        "\n"
      ]
    },
    {
      "cell_type": "markdown",
      "metadata": {
        "id": "eYmSK9WctlGj"
      },
      "source": [
        "To answer the last question above, we need to define our problem. What are we trying to do?\n",
        "\n",
        "We can choose to frame the problem as one of the following:\n",
        "\n",
        "1.  We can predict a household's total power consumption. This can be useful for:\n",
        "\n",
        "> *   Demand planning by power distribution companies\n",
        "> *   Powering/connecting to renewable energy sources \n",
        "> *   Financial planning of users\n",
        "\n",
        "2.  We can predict the household's consumption of specific power devices. This can be useful for:\n",
        "\n",
        "> *   Users can better plan their consumption of loads\n",
        "> *   Smart grids can switch off low-demand devices during peak demand hours (e.g. fridge)\n",
        "\n",
        "Today, we will be answering a specific question:\n",
        "\n",
        "***Given recent power consumption, what is the expected total power consumption for the next week?***\n"
      ]
    },
    {
      "cell_type": "markdown",
      "metadata": {
        "id": "IyP0uqya6Qen"
      },
      "source": [
        "### Data Inspection"
      ]
    },
    {
      "cell_type": "code",
      "metadata": {
        "id": "Y-ZPIPRSkAyY",
        "colab": {
          "base_uri": "https://localhost:8080/"
        },
        "outputId": "d4758445-6d66-490e-a847-1885ccfd553d"
      },
      "source": [
        "# inspect types\n",
        "data.info()\n",
        "#data.dtypes"
      ],
      "execution_count": null,
      "outputs": [
        {
          "output_type": "stream",
          "text": [
            "<class 'pandas.core.frame.DataFrame'>\n",
            "RangeIndex: 2075259 entries, 0 to 2075258\n",
            "Data columns (total 9 columns):\n",
            " #   Column                 Dtype  \n",
            "---  ------                 -----  \n",
            " 0   Date                   object \n",
            " 1   Time                   object \n",
            " 2   Global_active_power    object \n",
            " 3   Global_reactive_power  object \n",
            " 4   Voltage                object \n",
            " 5   Global_intensity       object \n",
            " 6   Sub_metering_1         object \n",
            " 7   Sub_metering_2         object \n",
            " 8   Sub_metering_3         float64\n",
            "dtypes: float64(1), object(8)\n",
            "memory usage: 142.5+ MB\n"
          ],
          "name": "stdout"
        }
      ]
    },
    {
      "cell_type": "code",
      "metadata": {
        "id": "qPdTKRZslAnI",
        "colab": {
          "base_uri": "https://localhost:8080/",
          "height": 297
        },
        "outputId": "626a5f38-cb36-4e72-c0fa-2660cf87e90e"
      },
      "source": [
        "# let's get a look at summary of statistics\n",
        "data.describe()"
      ],
      "execution_count": null,
      "outputs": [
        {
          "output_type": "execute_result",
          "data": {
            "text/html": [
              "<div>\n",
              "<style scoped>\n",
              "    .dataframe tbody tr th:only-of-type {\n",
              "        vertical-align: middle;\n",
              "    }\n",
              "\n",
              "    .dataframe tbody tr th {\n",
              "        vertical-align: top;\n",
              "    }\n",
              "\n",
              "    .dataframe thead th {\n",
              "        text-align: right;\n",
              "    }\n",
              "</style>\n",
              "<table border=\"1\" class=\"dataframe\">\n",
              "  <thead>\n",
              "    <tr style=\"text-align: right;\">\n",
              "      <th></th>\n",
              "      <th>Sub_metering_3</th>\n",
              "    </tr>\n",
              "  </thead>\n",
              "  <tbody>\n",
              "    <tr>\n",
              "      <th>count</th>\n",
              "      <td>2.049280e+06</td>\n",
              "    </tr>\n",
              "    <tr>\n",
              "      <th>mean</th>\n",
              "      <td>6.458447e+00</td>\n",
              "    </tr>\n",
              "    <tr>\n",
              "      <th>std</th>\n",
              "      <td>8.437154e+00</td>\n",
              "    </tr>\n",
              "    <tr>\n",
              "      <th>min</th>\n",
              "      <td>0.000000e+00</td>\n",
              "    </tr>\n",
              "    <tr>\n",
              "      <th>25%</th>\n",
              "      <td>0.000000e+00</td>\n",
              "    </tr>\n",
              "    <tr>\n",
              "      <th>50%</th>\n",
              "      <td>1.000000e+00</td>\n",
              "    </tr>\n",
              "    <tr>\n",
              "      <th>75%</th>\n",
              "      <td>1.700000e+01</td>\n",
              "    </tr>\n",
              "    <tr>\n",
              "      <th>max</th>\n",
              "      <td>3.100000e+01</td>\n",
              "    </tr>\n",
              "  </tbody>\n",
              "</table>\n",
              "</div>"
            ],
            "text/plain": [
              "       Sub_metering_3\n",
              "count    2.049280e+06\n",
              "mean     6.458447e+00\n",
              "std      8.437154e+00\n",
              "min      0.000000e+00\n",
              "25%      0.000000e+00\n",
              "50%      1.000000e+00\n",
              "75%      1.700000e+01\n",
              "max      3.100000e+01"
            ]
          },
          "metadata": {
            "tags": []
          },
          "execution_count": 6
        }
      ]
    },
    {
      "cell_type": "code",
      "metadata": {
        "id": "WHAE_VJuw4rp",
        "colab": {
          "base_uri": "https://localhost:8080/",
          "height": 410
        },
        "outputId": "c4b3d7cd-d29b-4ee4-a6cc-083e31343a8f"
      },
      "source": [
        "data.describe(include='all')"
      ],
      "execution_count": null,
      "outputs": [
        {
          "output_type": "execute_result",
          "data": {
            "text/html": [
              "<div>\n",
              "<style scoped>\n",
              "    .dataframe tbody tr th:only-of-type {\n",
              "        vertical-align: middle;\n",
              "    }\n",
              "\n",
              "    .dataframe tbody tr th {\n",
              "        vertical-align: top;\n",
              "    }\n",
              "\n",
              "    .dataframe thead th {\n",
              "        text-align: right;\n",
              "    }\n",
              "</style>\n",
              "<table border=\"1\" class=\"dataframe\">\n",
              "  <thead>\n",
              "    <tr style=\"text-align: right;\">\n",
              "      <th></th>\n",
              "      <th>Date</th>\n",
              "      <th>Time</th>\n",
              "      <th>Global_active_power</th>\n",
              "      <th>Global_reactive_power</th>\n",
              "      <th>Voltage</th>\n",
              "      <th>Global_intensity</th>\n",
              "      <th>Sub_metering_1</th>\n",
              "      <th>Sub_metering_2</th>\n",
              "      <th>Sub_metering_3</th>\n",
              "    </tr>\n",
              "  </thead>\n",
              "  <tbody>\n",
              "    <tr>\n",
              "      <th>count</th>\n",
              "      <td>2075259</td>\n",
              "      <td>2075259</td>\n",
              "      <td>2075259</td>\n",
              "      <td>2075259</td>\n",
              "      <td>2075259</td>\n",
              "      <td>2075259</td>\n",
              "      <td>2075259</td>\n",
              "      <td>2075259</td>\n",
              "      <td>2.049280e+06</td>\n",
              "    </tr>\n",
              "    <tr>\n",
              "      <th>unique</th>\n",
              "      <td>1442</td>\n",
              "      <td>1440</td>\n",
              "      <td>6534</td>\n",
              "      <td>896</td>\n",
              "      <td>5168</td>\n",
              "      <td>377</td>\n",
              "      <td>153</td>\n",
              "      <td>145</td>\n",
              "      <td>NaN</td>\n",
              "    </tr>\n",
              "    <tr>\n",
              "      <th>top</th>\n",
              "      <td>2/5/2007</td>\n",
              "      <td>19:56:00</td>\n",
              "      <td>?</td>\n",
              "      <td>0.000</td>\n",
              "      <td>?</td>\n",
              "      <td>1.000</td>\n",
              "      <td>0.000</td>\n",
              "      <td>0.000</td>\n",
              "      <td>NaN</td>\n",
              "    </tr>\n",
              "    <tr>\n",
              "      <th>freq</th>\n",
              "      <td>1440</td>\n",
              "      <td>1442</td>\n",
              "      <td>25979</td>\n",
              "      <td>472786</td>\n",
              "      <td>25979</td>\n",
              "      <td>169406</td>\n",
              "      <td>1840611</td>\n",
              "      <td>1408274</td>\n",
              "      <td>NaN</td>\n",
              "    </tr>\n",
              "    <tr>\n",
              "      <th>mean</th>\n",
              "      <td>NaN</td>\n",
              "      <td>NaN</td>\n",
              "      <td>NaN</td>\n",
              "      <td>NaN</td>\n",
              "      <td>NaN</td>\n",
              "      <td>NaN</td>\n",
              "      <td>NaN</td>\n",
              "      <td>NaN</td>\n",
              "      <td>6.458447e+00</td>\n",
              "    </tr>\n",
              "    <tr>\n",
              "      <th>std</th>\n",
              "      <td>NaN</td>\n",
              "      <td>NaN</td>\n",
              "      <td>NaN</td>\n",
              "      <td>NaN</td>\n",
              "      <td>NaN</td>\n",
              "      <td>NaN</td>\n",
              "      <td>NaN</td>\n",
              "      <td>NaN</td>\n",
              "      <td>8.437154e+00</td>\n",
              "    </tr>\n",
              "    <tr>\n",
              "      <th>min</th>\n",
              "      <td>NaN</td>\n",
              "      <td>NaN</td>\n",
              "      <td>NaN</td>\n",
              "      <td>NaN</td>\n",
              "      <td>NaN</td>\n",
              "      <td>NaN</td>\n",
              "      <td>NaN</td>\n",
              "      <td>NaN</td>\n",
              "      <td>0.000000e+00</td>\n",
              "    </tr>\n",
              "    <tr>\n",
              "      <th>25%</th>\n",
              "      <td>NaN</td>\n",
              "      <td>NaN</td>\n",
              "      <td>NaN</td>\n",
              "      <td>NaN</td>\n",
              "      <td>NaN</td>\n",
              "      <td>NaN</td>\n",
              "      <td>NaN</td>\n",
              "      <td>NaN</td>\n",
              "      <td>0.000000e+00</td>\n",
              "    </tr>\n",
              "    <tr>\n",
              "      <th>50%</th>\n",
              "      <td>NaN</td>\n",
              "      <td>NaN</td>\n",
              "      <td>NaN</td>\n",
              "      <td>NaN</td>\n",
              "      <td>NaN</td>\n",
              "      <td>NaN</td>\n",
              "      <td>NaN</td>\n",
              "      <td>NaN</td>\n",
              "      <td>1.000000e+00</td>\n",
              "    </tr>\n",
              "    <tr>\n",
              "      <th>75%</th>\n",
              "      <td>NaN</td>\n",
              "      <td>NaN</td>\n",
              "      <td>NaN</td>\n",
              "      <td>NaN</td>\n",
              "      <td>NaN</td>\n",
              "      <td>NaN</td>\n",
              "      <td>NaN</td>\n",
              "      <td>NaN</td>\n",
              "      <td>1.700000e+01</td>\n",
              "    </tr>\n",
              "    <tr>\n",
              "      <th>max</th>\n",
              "      <td>NaN</td>\n",
              "      <td>NaN</td>\n",
              "      <td>NaN</td>\n",
              "      <td>NaN</td>\n",
              "      <td>NaN</td>\n",
              "      <td>NaN</td>\n",
              "      <td>NaN</td>\n",
              "      <td>NaN</td>\n",
              "      <td>3.100000e+01</td>\n",
              "    </tr>\n",
              "  </tbody>\n",
              "</table>\n",
              "</div>"
            ],
            "text/plain": [
              "            Date      Time  ... Sub_metering_2 Sub_metering_3\n",
              "count    2075259   2075259  ...        2075259   2.049280e+06\n",
              "unique      1442      1440  ...            145            NaN\n",
              "top     2/5/2007  19:56:00  ...          0.000            NaN\n",
              "freq        1440      1442  ...        1408274            NaN\n",
              "mean         NaN       NaN  ...            NaN   6.458447e+00\n",
              "std          NaN       NaN  ...            NaN   8.437154e+00\n",
              "min          NaN       NaN  ...            NaN   0.000000e+00\n",
              "25%          NaN       NaN  ...            NaN   0.000000e+00\n",
              "50%          NaN       NaN  ...            NaN   1.000000e+00\n",
              "75%          NaN       NaN  ...            NaN   1.700000e+01\n",
              "max          NaN       NaN  ...            NaN   3.100000e+01\n",
              "\n",
              "[11 rows x 9 columns]"
            ]
          },
          "metadata": {
            "tags": []
          },
          "execution_count": 7
        }
      ]
    },
    {
      "cell_type": "code",
      "metadata": {
        "id": "StpMtOwfpV8d",
        "colab": {
          "base_uri": "https://localhost:8080/"
        },
        "outputId": "4e4fa425-b963-49cf-d250-9b8d9d7b6f50"
      },
      "source": [
        "# data shape\n",
        "rows, cols = data.shape\n",
        "print(f\"The dataset is composed of {rows} rows and {cols} columns.\")"
      ],
      "execution_count": null,
      "outputs": [
        {
          "output_type": "stream",
          "text": [
            "The dataset is composed of 2075259 rows and 9 columns.\n"
          ],
          "name": "stdout"
        }
      ]
    },
    {
      "cell_type": "markdown",
      "metadata": {
        "id": "tEOgVDTW0OCv"
      },
      "source": [
        "\n",
        "\n",
        "---"
      ]
    },
    {
      "cell_type": "markdown",
      "metadata": {
        "id": "d700CVy70yXB"
      },
      "source": [
        "### Data Cleaning\n",
        "\n",
        "In the `describe()` summary, we could see a symbol \"?\" showing in our data. Perhaps this is what the data collectors used to resemble missing values. Let's check April 29 of 2007 that we already know has a missing value."
      ]
    },
    {
      "cell_type": "markdown",
      "metadata": {
        "id": "LY_xdkV7xQqJ"
      },
      "source": [
        "We can make use of the date and time columns to easily search through our data. We will turn the date and time to indicies to easily navigate!"
      ]
    },
    {
      "cell_type": "code",
      "metadata": {
        "id": "ov0tLuO_w9iS",
        "colab": {
          "base_uri": "https://localhost:8080/",
          "height": 425
        },
        "outputId": "07d1fc44-c280-42ec-833a-d910601ca904"
      },
      "source": [
        "data = pd.read_csv(\"household_power_consumption.txt\", sep=';', infer_datetime_format=True, parse_dates={'datetime':[0,1]}, index_col=['datetime']) \n",
        "data.head()  "
      ],
      "execution_count": null,
      "outputs": [
        {
          "output_type": "execute_result",
          "data": {
            "text/html": [
              "<div>\n",
              "<style scoped>\n",
              "    .dataframe tbody tr th:only-of-type {\n",
              "        vertical-align: middle;\n",
              "    }\n",
              "\n",
              "    .dataframe tbody tr th {\n",
              "        vertical-align: top;\n",
              "    }\n",
              "\n",
              "    .dataframe thead th {\n",
              "        text-align: right;\n",
              "    }\n",
              "</style>\n",
              "<table border=\"1\" class=\"dataframe\">\n",
              "  <thead>\n",
              "    <tr style=\"text-align: right;\">\n",
              "      <th></th>\n",
              "      <th>Global_active_power</th>\n",
              "      <th>Global_reactive_power</th>\n",
              "      <th>Voltage</th>\n",
              "      <th>Global_intensity</th>\n",
              "      <th>Sub_metering_1</th>\n",
              "      <th>Sub_metering_2</th>\n",
              "      <th>Sub_metering_3</th>\n",
              "    </tr>\n",
              "    <tr>\n",
              "      <th>datetime</th>\n",
              "      <th></th>\n",
              "      <th></th>\n",
              "      <th></th>\n",
              "      <th></th>\n",
              "      <th></th>\n",
              "      <th></th>\n",
              "      <th></th>\n",
              "    </tr>\n",
              "  </thead>\n",
              "  <tbody>\n",
              "    <tr>\n",
              "      <th>2006-12-16 17:24:00</th>\n",
              "      <td>4.216</td>\n",
              "      <td>0.418</td>\n",
              "      <td>234.840</td>\n",
              "      <td>18.400</td>\n",
              "      <td>0.000</td>\n",
              "      <td>1.000</td>\n",
              "      <td>17.0</td>\n",
              "    </tr>\n",
              "    <tr>\n",
              "      <th>2006-12-16 17:25:00</th>\n",
              "      <td>5.360</td>\n",
              "      <td>0.436</td>\n",
              "      <td>233.630</td>\n",
              "      <td>23.000</td>\n",
              "      <td>0.000</td>\n",
              "      <td>1.000</td>\n",
              "      <td>16.0</td>\n",
              "    </tr>\n",
              "    <tr>\n",
              "      <th>2006-12-16 17:26:00</th>\n",
              "      <td>5.374</td>\n",
              "      <td>0.498</td>\n",
              "      <td>233.290</td>\n",
              "      <td>23.000</td>\n",
              "      <td>0.000</td>\n",
              "      <td>2.000</td>\n",
              "      <td>17.0</td>\n",
              "    </tr>\n",
              "    <tr>\n",
              "      <th>2006-12-16 17:27:00</th>\n",
              "      <td>5.388</td>\n",
              "      <td>0.502</td>\n",
              "      <td>233.740</td>\n",
              "      <td>23.000</td>\n",
              "      <td>0.000</td>\n",
              "      <td>1.000</td>\n",
              "      <td>17.0</td>\n",
              "    </tr>\n",
              "    <tr>\n",
              "      <th>2006-12-16 17:28:00</th>\n",
              "      <td>3.666</td>\n",
              "      <td>0.528</td>\n",
              "      <td>235.680</td>\n",
              "      <td>15.800</td>\n",
              "      <td>0.000</td>\n",
              "      <td>1.000</td>\n",
              "      <td>17.0</td>\n",
              "    </tr>\n",
              "  </tbody>\n",
              "</table>\n",
              "</div>"
            ],
            "text/plain": [
              "                    Global_active_power  ... Sub_metering_3\n",
              "datetime                                 ...               \n",
              "2006-12-16 17:24:00               4.216  ...           17.0\n",
              "2006-12-16 17:25:00               5.360  ...           16.0\n",
              "2006-12-16 17:26:00               5.374  ...           17.0\n",
              "2006-12-16 17:27:00               5.388  ...           17.0\n",
              "2006-12-16 17:28:00               3.666  ...           17.0\n",
              "\n",
              "[5 rows x 7 columns]"
            ]
          },
          "metadata": {
            "tags": []
          },
          "execution_count": 10
        }
      ]
    },
    {
      "cell_type": "markdown",
      "metadata": {
        "id": "bXKjZt_R2yXt"
      },
      "source": [
        "Now we can easily search our data. "
      ]
    },
    {
      "cell_type": "code",
      "metadata": {
        "id": "hdXjStK_0OJc",
        "colab": {
          "base_uri": "https://localhost:8080/"
        },
        "outputId": "1c616b5a-938a-4c7c-dd50-6a39c48c3717"
      },
      "source": [
        "import datetime \n",
        "# search for April 29, 2007 using the datetime index on the dataframe\n",
        "data.loc[datetime.datetime(year=2007,month=4,day=29)] "
      ],
      "execution_count": null,
      "outputs": [
        {
          "output_type": "execute_result",
          "data": {
            "text/plain": [
              "Global_active_power        ?\n",
              "Global_reactive_power      ?\n",
              "Voltage                    ?\n",
              "Global_intensity           ?\n",
              "Sub_metering_1             ?\n",
              "Sub_metering_2             ?\n",
              "Sub_metering_3           NaN\n",
              "Name: 2007-04-29 00:00:00, dtype: object"
            ]
          },
          "metadata": {
            "tags": []
          },
          "execution_count": 11
        }
      ]
    },
    {
      "cell_type": "markdown",
      "metadata": {
        "id": "NAAL_EhN2q47"
      },
      "source": [
        "**Finding:** \"?\" is a symbol used to represent missing values! \n",
        "\n",
        "Let's take care of these missing values."
      ]
    },
    {
      "cell_type": "code",
      "metadata": {
        "id": "Wisnj1-r3Kd0"
      },
      "source": [
        "# Removing rows with missing values or \"?\"\n",
        "\n",
        "# First. let's convert \"?\"\" to nan\n",
        "data.replace('?', np.nan, inplace=True)"
      ],
      "execution_count": null,
      "outputs": []
    },
    {
      "cell_type": "code",
      "metadata": {
        "id": "KX17B3FO9CEd",
        "colab": {
          "base_uri": "https://localhost:8080/"
        },
        "outputId": "8e15cffa-f6fa-45e9-a5e7-7d1b92bdda5e"
      },
      "source": [
        "# Let's check April 29, 2007 to see if we have properly replaced \"?\" with NaN\n",
        "data.loc[datetime.datetime(year=2007,month=4,day=29)] "
      ],
      "execution_count": null,
      "outputs": [
        {
          "output_type": "execute_result",
          "data": {
            "text/plain": [
              "Global_active_power      NaN\n",
              "Global_reactive_power    NaN\n",
              "Voltage                  NaN\n",
              "Global_intensity         NaN\n",
              "Sub_metering_1           NaN\n",
              "Sub_metering_2           NaN\n",
              "Sub_metering_3           NaN\n",
              "Name: 2007-04-29 00:00:00, dtype: object"
            ]
          },
          "metadata": {
            "tags": []
          },
          "execution_count": 13
        }
      ]
    },
    {
      "cell_type": "code",
      "metadata": {
        "id": "Rc-sr5qhBXoK",
        "colab": {
          "base_uri": "https://localhost:8080/"
        },
        "outputId": "c5c1fe1e-fa5f-4e03-8e05-591e90982713"
      },
      "source": [
        "# So our data should be all float types, let's check\n",
        "data.dtypes"
      ],
      "execution_count": null,
      "outputs": [
        {
          "output_type": "execute_result",
          "data": {
            "text/plain": [
              "Global_active_power       object\n",
              "Global_reactive_power     object\n",
              "Voltage                   object\n",
              "Global_intensity          object\n",
              "Sub_metering_1            object\n",
              "Sub_metering_2            object\n",
              "Sub_metering_3           float64\n",
              "dtype: object"
            ]
          },
          "metadata": {
            "tags": []
          },
          "execution_count": 14
        }
      ]
    },
    {
      "cell_type": "code",
      "metadata": {
        "id": "zPHpy8i6BcQ1",
        "colab": {
          "base_uri": "https://localhost:8080/"
        },
        "outputId": "06ba587d-d88a-4e4f-fc3b-5d14c7b962ce"
      },
      "source": [
        "# We need to change the data from string to float\n",
        "data = data.astype('float32')\n",
        "data.dtypes"
      ],
      "execution_count": null,
      "outputs": [
        {
          "output_type": "execute_result",
          "data": {
            "text/plain": [
              "Global_active_power      float32\n",
              "Global_reactive_power    float32\n",
              "Voltage                  float32\n",
              "Global_intensity         float32\n",
              "Sub_metering_1           float32\n",
              "Sub_metering_2           float32\n",
              "Sub_metering_3           float32\n",
              "dtype: object"
            ]
          },
          "metadata": {
            "tags": []
          },
          "execution_count": 15
        }
      ]
    },
    {
      "cell_type": "code",
      "metadata": {
        "id": "530D-k9t3N1-",
        "colab": {
          "base_uri": "https://localhost:8080/"
        },
        "outputId": "13c04b96-c838-493f-83d8-d8ace3fe4792"
      },
      "source": [
        "# Second. let's check how many missing values we have\n",
        "data.isnull().sum() "
      ],
      "execution_count": null,
      "outputs": [
        {
          "output_type": "execute_result",
          "data": {
            "text/plain": [
              "Global_active_power      25979\n",
              "Global_reactive_power    25979\n",
              "Voltage                  25979\n",
              "Global_intensity         25979\n",
              "Sub_metering_1           25979\n",
              "Sub_metering_2           25979\n",
              "Sub_metering_3           25979\n",
              "dtype: int64"
            ]
          },
          "metadata": {
            "tags": []
          },
          "execution_count": 16
        }
      ]
    },
    {
      "cell_type": "code",
      "metadata": {
        "id": "7JcfTnhX3PY7",
        "colab": {
          "base_uri": "https://localhost:8080/"
        },
        "outputId": "2a4c1306-eb2e-434d-d484-4b6c58946828"
      },
      "source": [
        "# One solution we could use is to drop all rows with missing values\n",
        "data_remove = data.dropna()   \n",
        "data_remove.shape"
      ],
      "execution_count": null,
      "outputs": [
        {
          "output_type": "execute_result",
          "data": {
            "text/plain": [
              "(2049280, 7)"
            ]
          },
          "metadata": {
            "tags": []
          },
          "execution_count": 17
        }
      ]
    },
    {
      "cell_type": "markdown",
      "metadata": {
        "id": "orkfCueY4Mil"
      },
      "source": [
        "2,075,259 - 2,049,280 = we dropped 25979 rows! "
      ]
    },
    {
      "cell_type": "code",
      "metadata": {
        "id": "do7Zc5b_3UZW"
      },
      "source": [
        "# Let's check April 29, 2007 to see if we have properly removed missing values from the dataset\n",
        "# data_remove.loc[datetime.date(year=2007,month=4,day=29)] "
      ],
      "execution_count": null,
      "outputs": []
    },
    {
      "cell_type": "code",
      "metadata": {
        "id": "Nd4Fn8ggBIUR",
        "colab": {
          "base_uri": "https://localhost:8080/"
        },
        "outputId": "d579f888-6b12-4a44-f790-efd92ca6506a"
      },
      "source": [
        "data_remove.isnull().any()"
      ],
      "execution_count": null,
      "outputs": [
        {
          "output_type": "execute_result",
          "data": {
            "text/plain": [
              "Global_active_power      False\n",
              "Global_reactive_power    False\n",
              "Voltage                  False\n",
              "Global_intensity         False\n",
              "Sub_metering_1           False\n",
              "Sub_metering_2           False\n",
              "Sub_metering_3           False\n",
              "dtype: bool"
            ]
          },
          "metadata": {
            "tags": []
          },
          "execution_count": 19
        }
      ]
    },
    {
      "cell_type": "code",
      "metadata": {
        "id": "f67AikHlBzvE"
      },
      "source": [
        "# But we don't want to lose this many samples (25K!) so let's replace the missing values with the mean\n",
        "data = data.fillna(data.mean())"
      ],
      "execution_count": null,
      "outputs": []
    },
    {
      "cell_type": "code",
      "metadata": {
        "id": "DaQf0lQtCL6D",
        "colab": {
          "base_uri": "https://localhost:8080/"
        },
        "outputId": "fed2eee6-7892-4c3e-ac9e-563416171780"
      },
      "source": [
        "# let's check if we have correctly replaced April 29, 2007 with the mean\n",
        "data.loc[datetime.datetime(year=2007,month=4,day=29)] "
      ],
      "execution_count": null,
      "outputs": [
        {
          "output_type": "execute_result",
          "data": {
            "text/plain": [
              "Global_active_power        1.091631\n",
              "Global_reactive_power      0.123704\n",
              "Voltage                  243.381332\n",
              "Global_intensity           4.629239\n",
              "Sub_metering_1             1.121923\n",
              "Sub_metering_2             1.298520\n",
              "Sub_metering_3             6.458447\n",
              "Name: 2007-04-29 00:00:00, dtype: float32"
            ]
          },
          "metadata": {
            "tags": []
          },
          "execution_count": 21
        }
      ]
    },
    {
      "cell_type": "code",
      "metadata": {
        "id": "9B4_8PvsCTF3",
        "colab": {
          "base_uri": "https://localhost:8080/"
        },
        "outputId": "423700a1-c459-47ab-e322-8dac1099dc72"
      },
      "source": [
        "# Any missing values left?\n",
        "data.isnull().any()"
      ],
      "execution_count": null,
      "outputs": [
        {
          "output_type": "execute_result",
          "data": {
            "text/plain": [
              "Global_active_power      False\n",
              "Global_reactive_power    False\n",
              "Voltage                  False\n",
              "Global_intensity         False\n",
              "Sub_metering_1           False\n",
              "Sub_metering_2           False\n",
              "Sub_metering_3           False\n",
              "dtype: bool"
            ]
          },
          "metadata": {
            "tags": []
          },
          "execution_count": 22
        }
      ]
    },
    {
      "cell_type": "markdown",
      "metadata": {
        "id": "WpkalIO76AoW"
      },
      "source": [
        "**DONE** We have cleaned our data from missing values. \n",
        "\n",
        "---"
      ]
    },
    {
      "cell_type": "markdown",
      "metadata": {
        "id": "pCgjVY5v6Yc1"
      },
      "source": [
        "### Data Preprocessing"
      ]
    },
    {
      "cell_type": "markdown",
      "metadata": {
        "id": "BXGT4lGTxP3X"
      },
      "source": [
        "Each measurement/sample in a row is collected every minute of the day for 47 months! Do we need all this information?\n",
        "\n",
        "If we're doing a prediction for the next week level consumptions, then we don't need to know how much power is being consumed per minute (too specific). We could probably get by with the consumption level per hour. We can likely even get by per day.\n",
        "\n",
        "\n"
      ]
    },
    {
      "cell_type": "code",
      "metadata": {
        "id": "5KxnByI8yHp7",
        "colab": {
          "base_uri": "https://localhost:8080/"
        },
        "outputId": "7ac79a91-39f7-4a62-ed95-c080d8790b12"
      },
      "source": [
        "# we can easily resample minutes to days\n",
        "daily_data = data.resample('D', level=0).sum()\n",
        "\n",
        "# check new size of data (remember we lumped readings so data will shrink by an order of 1/(60 minutes per hour *24 hours per day)) \n",
        "daily_data.shape"
      ],
      "execution_count": null,
      "outputs": [
        {
          "output_type": "execute_result",
          "data": {
            "text/plain": [
              "(1442, 7)"
            ]
          },
          "metadata": {
            "tags": []
          },
          "execution_count": 23
        }
      ]
    },
    {
      "cell_type": "code",
      "metadata": {
        "id": "fpgtn4J6_CoE",
        "colab": {
          "base_uri": "https://localhost:8080/",
          "height": 340
        },
        "outputId": "9dddddbb-ff97-4632-b96b-d58cfa4d6775"
      },
      "source": [
        "# let's take a look at how our index looks like now\n",
        "daily_data.head()"
      ],
      "execution_count": null,
      "outputs": [
        {
          "output_type": "execute_result",
          "data": {
            "text/html": [
              "<div>\n",
              "<style scoped>\n",
              "    .dataframe tbody tr th:only-of-type {\n",
              "        vertical-align: middle;\n",
              "    }\n",
              "\n",
              "    .dataframe tbody tr th {\n",
              "        vertical-align: top;\n",
              "    }\n",
              "\n",
              "    .dataframe thead th {\n",
              "        text-align: right;\n",
              "    }\n",
              "</style>\n",
              "<table border=\"1\" class=\"dataframe\">\n",
              "  <thead>\n",
              "    <tr style=\"text-align: right;\">\n",
              "      <th></th>\n",
              "      <th>Global_active_power</th>\n",
              "      <th>Global_reactive_power</th>\n",
              "      <th>Voltage</th>\n",
              "      <th>Global_intensity</th>\n",
              "      <th>Sub_metering_1</th>\n",
              "      <th>Sub_metering_2</th>\n",
              "      <th>Sub_metering_3</th>\n",
              "    </tr>\n",
              "    <tr>\n",
              "      <th>datetime</th>\n",
              "      <th></th>\n",
              "      <th></th>\n",
              "      <th></th>\n",
              "      <th></th>\n",
              "      <th></th>\n",
              "      <th></th>\n",
              "      <th></th>\n",
              "    </tr>\n",
              "  </thead>\n",
              "  <tbody>\n",
              "    <tr>\n",
              "      <th>2006-12-16</th>\n",
              "      <td>1209.176025</td>\n",
              "      <td>34.922001</td>\n",
              "      <td>93552.53125</td>\n",
              "      <td>5180.799805</td>\n",
              "      <td>0.0</td>\n",
              "      <td>546.0</td>\n",
              "      <td>4926.0</td>\n",
              "    </tr>\n",
              "    <tr>\n",
              "      <th>2006-12-17</th>\n",
              "      <td>3390.459961</td>\n",
              "      <td>226.005997</td>\n",
              "      <td>345725.31250</td>\n",
              "      <td>14398.599609</td>\n",
              "      <td>2033.0</td>\n",
              "      <td>4187.0</td>\n",
              "      <td>13341.0</td>\n",
              "    </tr>\n",
              "    <tr>\n",
              "      <th>2006-12-18</th>\n",
              "      <td>2203.825928</td>\n",
              "      <td>161.792007</td>\n",
              "      <td>347373.62500</td>\n",
              "      <td>9247.200195</td>\n",
              "      <td>1063.0</td>\n",
              "      <td>2621.0</td>\n",
              "      <td>14018.0</td>\n",
              "    </tr>\n",
              "    <tr>\n",
              "      <th>2006-12-19</th>\n",
              "      <td>1666.193970</td>\n",
              "      <td>150.942001</td>\n",
              "      <td>348479.00000</td>\n",
              "      <td>7094.000000</td>\n",
              "      <td>839.0</td>\n",
              "      <td>7602.0</td>\n",
              "      <td>6197.0</td>\n",
              "    </tr>\n",
              "    <tr>\n",
              "      <th>2006-12-20</th>\n",
              "      <td>2225.748047</td>\n",
              "      <td>160.998001</td>\n",
              "      <td>348923.62500</td>\n",
              "      <td>9313.000000</td>\n",
              "      <td>0.0</td>\n",
              "      <td>2648.0</td>\n",
              "      <td>14063.0</td>\n",
              "    </tr>\n",
              "  </tbody>\n",
              "</table>\n",
              "</div>"
            ],
            "text/plain": [
              "            Global_active_power  ...  Sub_metering_3\n",
              "datetime                         ...                \n",
              "2006-12-16          1209.176025  ...          4926.0\n",
              "2006-12-17          3390.459961  ...         13341.0\n",
              "2006-12-18          2203.825928  ...         14018.0\n",
              "2006-12-19          1666.193970  ...          6197.0\n",
              "2006-12-20          2225.748047  ...         14063.0\n",
              "\n",
              "[5 rows x 7 columns]"
            ]
          },
          "metadata": {
            "tags": []
          },
          "execution_count": 24
        }
      ]
    },
    {
      "cell_type": "markdown",
      "metadata": {
        "id": "nbcv2lUMCZlg"
      },
      "source": [
        "We now have our data sampled per day and in the proper setup for **one week ahead prediction.**"
      ]
    },
    {
      "cell_type": "markdown",
      "metadata": {
        "id": "I13zQwgnZXqv"
      },
      "source": [
        "### Data Visualization"
      ]
    },
    {
      "cell_type": "code",
      "metadata": {
        "id": "R4w8IYCVZeHf",
        "colab": {
          "base_uri": "https://localhost:8080/",
          "height": 308
        },
        "outputId": "57ac0765-05c3-49d7-eb9c-c3778d2c7bf2"
      },
      "source": [
        "daily_data_meter_1 = daily_data['Sub_metering_1']\n",
        "daily_data_meter_2 = daily_data['Sub_metering_2']\n",
        "daily_data_meter_3 = daily_data['Sub_metering_3']\n",
        "\n",
        "daily_data_meter_1.plot(color=\"blue\") # can plot directly in pandas"
      ],
      "execution_count": null,
      "outputs": [
        {
          "output_type": "execute_result",
          "data": {
            "text/plain": [
              "<matplotlib.axes._subplots.AxesSubplot at 0x7f4d84d7b3d0>"
            ]
          },
          "metadata": {
            "tags": []
          },
          "execution_count": 25
        },
        {
          "output_type": "display_data",
          "data": {
            "image/png": "[encoded data removed]",
            "text/plain": [
              "<Figure size 432x288 with 1 Axes>"
            ]
          },
          "metadata": {
            "tags": [],
            "needs_background": "light"
          }
        }
      ]
    },
    {
      "cell_type": "markdown",
      "metadata": {
        "id": "A88Vk61Qc0qy"
      },
      "source": [
        "We can see how power consumption looks like for kitchen appliances."
      ]
    },
    {
      "cell_type": "code",
      "metadata": {
        "id": "3Z7rCrIKcORG",
        "colab": {
          "base_uri": "https://localhost:8080/",
          "height": 308
        },
        "outputId": "4ad90128-ed7e-4bfb-bb09-8c499a630e1e"
      },
      "source": [
        "# Can plot them all in one figure directly from pandas\n",
        "daily_data_per_meter = daily_data[['Sub_metering_1','Sub_metering_2','Sub_metering_3']]\n",
        "daily_data_per_meter.plot()"
      ],
      "execution_count": null,
      "outputs": [
        {
          "output_type": "execute_result",
          "data": {
            "text/plain": [
              "<matplotlib.axes._subplots.AxesSubplot at 0x7f4d85207650>"
            ]
          },
          "metadata": {
            "tags": []
          },
          "execution_count": 26
        },
        {
          "output_type": "display_data",
          "data": {
            "image/png": "[encoded data removed]",
            "text/plain": [
              "<Figure size 432x288 with 1 Axes>"
            ]
          },
          "metadata": {
            "tags": [],
            "needs_background": "light"
          }
        }
      ]
    },
    {
      "cell_type": "markdown",
      "metadata": {
        "id": "38QFfmhGc5lu"
      },
      "source": [
        "It seems like `sub_metering_3` (which refers to heating and air conditioning) seems to have a unique pattern compared to the remaining measurements."
      ]
    },
    {
      "cell_type": "code",
      "metadata": {
        "id": "5PHW6CzZcQ-w",
        "colab": {
          "base_uri": "https://localhost:8080/",
          "height": 404
        },
        "outputId": "c670ac97-6ed7-4745-e066-f7550b598785"
      },
      "source": [
        "# Using matplotlib\n",
        "plt.figure()                # the first figure\n",
        "plt.figure(figsize=(10,5))  # define figure size (rows, cols)\n",
        "plt.suptitle('Usage of Kitchen, Laundry Room, and Heating Units Appliances')\n",
        "\n",
        "plt.subplot(311)             # the first subplot in the first figure\n",
        "plt.plot(daily_data['Sub_metering_1'],color=\"blue\")\n",
        "plt.xlabel('Time')\n",
        "plt.ylabel('Watt-hour')\n",
        "\n",
        "plt.subplot(312)             # the second subplot in the first figure\n",
        "plt.plot(daily_data['Sub_metering_2'],color=\"orange\")\n",
        "plt.xlabel('Time')\n",
        "plt.ylabel('Watt-hour')\n",
        "\n",
        "plt.subplot(313)             # the third subplot in the first figure\n",
        "plt.plot(daily_data['Sub_metering_3'],color=\"green\")\n",
        "plt.xlabel('Time')\n",
        "plt.ylabel('Watt-hour')\n"
      ],
      "execution_count": null,
      "outputs": [
        {
          "output_type": "execute_result",
          "data": {
            "text/plain": [
              "Text(0, 0.5, 'Watt-hour')"
            ]
          },
          "metadata": {
            "tags": []
          },
          "execution_count": 27
        },
        {
          "output_type": "display_data",
          "data": {
            "text/plain": [
              "<Figure size 432x288 with 0 Axes>"
            ]
          },
          "metadata": {
            "tags": []
          }
        },
        {
          "output_type": "display_data",
          "data": {
            "image/png": "[encoded data removed]",
            "text/plain": [
              "<Figure size 720x360 with 3 Axes>"
            ]
          },
          "metadata": {
            "tags": [],
            "needs_background": "light"
          }
        }
      ]
    },
    {
      "cell_type": "markdown",
      "metadata": {
        "id": "4Nf6fYlfdDiI"
      },
      "source": [
        "**Question:** Do you notice anything about `sub_metering_3`?\n",
        "\n",
        "**Finding:** There is a clear seasonal component. This is due to high consumption of heating appliances during winter and low consumption during summers. This behavior would look different if we were collecting measurements from UAE, for example."
      ]
    },
    {
      "cell_type": "markdown",
      "metadata": {
        "id": "o5FMuS0-ZeOM"
      },
      "source": [
        "# **2. Time-series Data Preparation**"
      ]
    },
    {
      "cell_type": "markdown",
      "metadata": {
        "id": "t74nlcPdsNrG"
      },
      "source": [
        "OK, so now we should split our data into train and test sets. How do we do that? **Which columns are our descriptors and where's our target?**"
      ]
    },
    {
      "cell_type": "code",
      "metadata": {
        "id": "iWY0hkvlZiup",
        "colab": {
          "base_uri": "https://localhost:8080/",
          "height": 148
        },
        "outputId": "fe4f770e-d4b8-4940-98e6-d00c3f87a229"
      },
      "source": [
        "# The first and last days in the data are:\n",
        "daily_data.iloc[[0]] # first day"
      ],
      "execution_count": null,
      "outputs": [
        {
          "output_type": "execute_result",
          "data": {
            "text/html": [
              "<div>\n",
              "<style scoped>\n",
              "    .dataframe tbody tr th:only-of-type {\n",
              "        vertical-align: middle;\n",
              "    }\n",
              "\n",
              "    .dataframe tbody tr th {\n",
              "        vertical-align: top;\n",
              "    }\n",
              "\n",
              "    .dataframe thead th {\n",
              "        text-align: right;\n",
              "    }\n",
              "</style>\n",
              "<table border=\"1\" class=\"dataframe\">\n",
              "  <thead>\n",
              "    <tr style=\"text-align: right;\">\n",
              "      <th></th>\n",
              "      <th>Global_active_power</th>\n",
              "      <th>Global_reactive_power</th>\n",
              "      <th>Voltage</th>\n",
              "      <th>Global_intensity</th>\n",
              "      <th>Sub_metering_1</th>\n",
              "      <th>Sub_metering_2</th>\n",
              "      <th>Sub_metering_3</th>\n",
              "    </tr>\n",
              "    <tr>\n",
              "      <th>datetime</th>\n",
              "      <th></th>\n",
              "      <th></th>\n",
              "      <th></th>\n",
              "      <th></th>\n",
              "      <th></th>\n",
              "      <th></th>\n",
              "      <th></th>\n",
              "    </tr>\n",
              "  </thead>\n",
              "  <tbody>\n",
              "    <tr>\n",
              "      <th>2006-12-16</th>\n",
              "      <td>1209.176025</td>\n",
              "      <td>34.922001</td>\n",
              "      <td>93552.53125</td>\n",
              "      <td>5180.799805</td>\n",
              "      <td>0.0</td>\n",
              "      <td>546.0</td>\n",
              "      <td>4926.0</td>\n",
              "    </tr>\n",
              "  </tbody>\n",
              "</table>\n",
              "</div>"
            ],
            "text/plain": [
              "            Global_active_power  ...  Sub_metering_3\n",
              "datetime                         ...                \n",
              "2006-12-16          1209.176025  ...          4926.0\n",
              "\n",
              "[1 rows x 7 columns]"
            ]
          },
          "metadata": {
            "tags": []
          },
          "execution_count": 28
        }
      ]
    },
    {
      "cell_type": "code",
      "metadata": {
        "id": "4W_iXsW5nSKC",
        "colab": {
          "base_uri": "https://localhost:8080/",
          "height": 148
        },
        "outputId": "ddd05cb4-f258-42cc-e22d-6b1e690c9a6a"
      },
      "source": [
        "daily_data.iloc[[-1]] # last day"
      ],
      "execution_count": null,
      "outputs": [
        {
          "output_type": "execute_result",
          "data": {
            "text/html": [
              "<div>\n",
              "<style scoped>\n",
              "    .dataframe tbody tr th:only-of-type {\n",
              "        vertical-align: middle;\n",
              "    }\n",
              "\n",
              "    .dataframe tbody tr th {\n",
              "        vertical-align: top;\n",
              "    }\n",
              "\n",
              "    .dataframe thead th {\n",
              "        text-align: right;\n",
              "    }\n",
              "</style>\n",
              "<table border=\"1\" class=\"dataframe\">\n",
              "  <thead>\n",
              "    <tr style=\"text-align: right;\">\n",
              "      <th></th>\n",
              "      <th>Global_active_power</th>\n",
              "      <th>Global_reactive_power</th>\n",
              "      <th>Voltage</th>\n",
              "      <th>Global_intensity</th>\n",
              "      <th>Sub_metering_1</th>\n",
              "      <th>Sub_metering_2</th>\n",
              "      <th>Sub_metering_3</th>\n",
              "    </tr>\n",
              "    <tr>\n",
              "      <th>datetime</th>\n",
              "      <th></th>\n",
              "      <th></th>\n",
              "      <th></th>\n",
              "      <th></th>\n",
              "      <th></th>\n",
              "      <th></th>\n",
              "      <th></th>\n",
              "    </tr>\n",
              "  </thead>\n",
              "  <tbody>\n",
              "    <tr>\n",
              "      <th>2010-11-26</th>\n",
              "      <td>1488.104004</td>\n",
              "      <td>120.826004</td>\n",
              "      <td>303487.5625</td>\n",
              "      <td>6259.799805</td>\n",
              "      <td>1080.0</td>\n",
              "      <td>385.0</td>\n",
              "      <td>9989.0</td>\n",
              "    </tr>\n",
              "  </tbody>\n",
              "</table>\n",
              "</div>"
            ],
            "text/plain": [
              "            Global_active_power  ...  Sub_metering_3\n",
              "datetime                         ...                \n",
              "2010-11-26          1488.104004  ...          9989.0\n",
              "\n",
              "[1 rows x 7 columns]"
            ]
          },
          "metadata": {
            "tags": []
          },
          "execution_count": 29
        }
      ]
    },
    {
      "cell_type": "markdown",
      "metadata": {
        "id": "LXhD07z5nSUQ"
      },
      "source": [
        "Starting date: 2006-12-16\n",
        "Ending date: 2010-11-26\t\n",
        "\n",
        "If we want one week ahead prediction, it makes sense to use the previous week of data to predict the week ahead. \n",
        "\n",
        "To set this up properly, we would want our week to start on Monday and end on Sunday.\n",
        "\n",
        "> The **first Monday in the dataset** is December 18, 2006 (which is the third row in the dataset).\n",
        "\n",
        "> The **last Sunday in the dataset** is November 21, 2010. (which is the -6 from the end).\n",
        "\n",
        "Organizing the data into the step up above, we would have a total of 205 weeks.\n",
        "\n",
        "*NOPE.. didn't count them myself! Here's an online [calculator](https://planetcalc.com/274/?license=1).*"
      ]
    },
    {
      "cell_type": "code",
      "metadata": {
        "id": "mTMFm4s4nuiV",
        "colab": {
          "base_uri": "https://localhost:8080/",
          "height": 148
        },
        "outputId": "c9498fa6-b1e7-496d-c34f-68b360fffbdc"
      },
      "source": [
        "daily_data.iloc[[2]] # First day for us"
      ],
      "execution_count": null,
      "outputs": [
        {
          "output_type": "execute_result",
          "data": {
            "text/html": [
              "<div>\n",
              "<style scoped>\n",
              "    .dataframe tbody tr th:only-of-type {\n",
              "        vertical-align: middle;\n",
              "    }\n",
              "\n",
              "    .dataframe tbody tr th {\n",
              "        vertical-align: top;\n",
              "    }\n",
              "\n",
              "    .dataframe thead th {\n",
              "        text-align: right;\n",
              "    }\n",
              "</style>\n",
              "<table border=\"1\" class=\"dataframe\">\n",
              "  <thead>\n",
              "    <tr style=\"text-align: right;\">\n",
              "      <th></th>\n",
              "      <th>Global_active_power</th>\n",
              "      <th>Global_reactive_power</th>\n",
              "      <th>Voltage</th>\n",
              "      <th>Global_intensity</th>\n",
              "      <th>Sub_metering_1</th>\n",
              "      <th>Sub_metering_2</th>\n",
              "      <th>Sub_metering_3</th>\n",
              "    </tr>\n",
              "    <tr>\n",
              "      <th>datetime</th>\n",
              "      <th></th>\n",
              "      <th></th>\n",
              "      <th></th>\n",
              "      <th></th>\n",
              "      <th></th>\n",
              "      <th></th>\n",
              "      <th></th>\n",
              "    </tr>\n",
              "  </thead>\n",
              "  <tbody>\n",
              "    <tr>\n",
              "      <th>2006-12-18</th>\n",
              "      <td>2203.825928</td>\n",
              "      <td>161.792007</td>\n",
              "      <td>347373.625</td>\n",
              "      <td>9247.200195</td>\n",
              "      <td>1063.0</td>\n",
              "      <td>2621.0</td>\n",
              "      <td>14018.0</td>\n",
              "    </tr>\n",
              "  </tbody>\n",
              "</table>\n",
              "</div>"
            ],
            "text/plain": [
              "            Global_active_power  ...  Sub_metering_3\n",
              "datetime                         ...                \n",
              "2006-12-18          2203.825928  ...         14018.0\n",
              "\n",
              "[1 rows x 7 columns]"
            ]
          },
          "metadata": {
            "tags": []
          },
          "execution_count": 30
        }
      ]
    },
    {
      "cell_type": "code",
      "metadata": {
        "id": "ONk9vyumnu-o",
        "colab": {
          "base_uri": "https://localhost:8080/",
          "height": 148
        },
        "outputId": "b2ae7c3b-e2c6-4e85-fcf7-aebff3479013"
      },
      "source": [
        "daily_data.iloc[[-5]] # Last day for us "
      ],
      "execution_count": null,
      "outputs": [
        {
          "output_type": "execute_result",
          "data": {
            "text/html": [
              "<div>\n",
              "<style scoped>\n",
              "    .dataframe tbody tr th:only-of-type {\n",
              "        vertical-align: middle;\n",
              "    }\n",
              "\n",
              "    .dataframe tbody tr th {\n",
              "        vertical-align: top;\n",
              "    }\n",
              "\n",
              "    .dataframe thead th {\n",
              "        text-align: right;\n",
              "    }\n",
              "</style>\n",
              "<table border=\"1\" class=\"dataframe\">\n",
              "  <thead>\n",
              "    <tr style=\"text-align: right;\">\n",
              "      <th></th>\n",
              "      <th>Global_active_power</th>\n",
              "      <th>Global_reactive_power</th>\n",
              "      <th>Voltage</th>\n",
              "      <th>Global_intensity</th>\n",
              "      <th>Sub_metering_1</th>\n",
              "      <th>Sub_metering_2</th>\n",
              "      <th>Sub_metering_3</th>\n",
              "    </tr>\n",
              "    <tr>\n",
              "      <th>datetime</th>\n",
              "      <th></th>\n",
              "      <th></th>\n",
              "      <th></th>\n",
              "      <th></th>\n",
              "      <th></th>\n",
              "      <th></th>\n",
              "      <th></th>\n",
              "    </tr>\n",
              "  </thead>\n",
              "  <tbody>\n",
              "    <tr>\n",
              "      <th>2010-11-22</th>\n",
              "      <td>2041.536011</td>\n",
              "      <td>142.354004</td>\n",
              "      <td>345883.84375</td>\n",
              "      <td>8660.400391</td>\n",
              "      <td>4855.0</td>\n",
              "      <td>2110.0</td>\n",
              "      <td>10136.0</td>\n",
              "    </tr>\n",
              "  </tbody>\n",
              "</table>\n",
              "</div>"
            ],
            "text/plain": [
              "            Global_active_power  ...  Sub_metering_3\n",
              "datetime                         ...                \n",
              "2010-11-22          2041.536011  ...         10136.0\n",
              "\n",
              "[1 rows x 7 columns]"
            ]
          },
          "metadata": {
            "tags": []
          },
          "execution_count": 31
        }
      ]
    },
    {
      "cell_type": "markdown",
      "metadata": {
        "id": "_2a_H6ffnzfy"
      },
      "source": [
        "If we decide to divide our data into ~70% training and ~30% testing, then we would need:\n",
        "\n",
        "30% of 205 weeks = 61 weeks\n",
        "\n",
        "61 weeks = 427 days\n",
        "\n",
        "We are starting at day -5 so we need to read up to -(427+5)= -432. **Great!**"
      ]
    },
    {
      "cell_type": "markdown",
      "metadata": {
        "id": "YGGqEXBC4l4l"
      },
      "source": [
        "\n",
        "> **Training & Testing samples are NOT randomly selected. Wait, what?!**\n",
        "\n",
        "Unlike other datasets, we will not randomly select our test and train samples. We will divide our dataset into the most recent readings being training samples and the later readings testing samples. \n",
        "\n",
        "This is because we are working on a prediction problem, and thus, the sequence in which data is presented matters!"
      ]
    },
    {
      "cell_type": "code",
      "metadata": {
        "id": "9oigh1meoFaz",
        "colab": {
          "base_uri": "https://localhost:8080/"
        },
        "outputId": "315cb9b4-7275-4709-eb03-d04fa51dc6b1"
      },
      "source": [
        "data = daily_data.values\n",
        "train, test = data[2:-432], data[-432:-5] # Important numbers (ignoring the lingering days that don't fit into our Monday-Sunday structure)\n",
        "\n",
        "# reshape into windows of weekly data (one week = 7 days) (total days / 7 = total weeks)\n",
        "train = np.array(np.split(train, len(train)/7))\n",
        "test = np.array(np.split(test, len(test)/7))\n",
        "\n",
        "# check shape\n",
        "print(f\"The training set is {train.shape} and the test set is {test.shape}.\")"
      ],
      "execution_count": null,
      "outputs": [
        {
          "output_type": "stream",
          "text": [
            "The training set is (144, 7, 7) and the test set is (61, 7, 7).\n"
          ],
          "name": "stdout"
        }
      ]
    },
    {
      "cell_type": "markdown",
      "metadata": {
        "id": "PiU3EznVou6q"
      },
      "source": [
        "Where do these 3 dimensions come from? \n",
        "**(weeks, days, features)**\n",
        "\n",
        "---"
      ]
    },
    {
      "cell_type": "markdown",
      "metadata": {
        "id": "8DkrZ_tZ04_M"
      },
      "source": [
        "Here, we would usually normalize our data columns since we don't want our model to get biased towards specific features.\n",
        "\n",
        "However, this is not NECESSARY when dealing with time-series prediction as our *features* are the data observations themselves.\n",
        "\n",
        "---"
      ]
    },
    {
      "cell_type": "markdown",
      "metadata": {
        "id": "eX-eA8Yv3T1C"
      },
      "source": [
        "So, now we have the training and testing sets. One more thing we need to prepare before moving to modeling is:\n",
        "\n",
        "**How do we setup the data for supervised learning?** That is, what is my *X* and what is my *y*?"
      ]
    },
    {
      "cell_type": "markdown",
      "metadata": {
        "id": "-K1NwQd33rau"
      },
      "source": [
        "At each instant, we want to feed the model a week, and predict the week ahead. We don't do this prediction for Mondays only; we do them for every day of the week.\n",
        "\n",
        "Meaning, we want our input (X) and output (y) to look like:\n",
        "\n",
        "```\n",
        "[Input], [Output]\n",
        "[d01, d02, d03, d04, d05, d06, d07], [d08, d09, d10, d11, d12, d13, d14]\n",
        "[d02, d03, d04, d05, d06, d07, d08], [d09, d10, d11, d12, d13, d14, d15]\n",
        "Etc ...\n",
        "```\n"
      ]
    },
    {
      "cell_type": "code",
      "metadata": {
        "id": "1rWpW5jK3lyy",
        "colab": {
          "base_uri": "https://localhost:8080/"
        },
        "outputId": "f5c5ef82-d30b-4b5a-bef8-dc04bcf917cb"
      },
      "source": [
        "# flatten the train data over all weeks \n",
        "train = train.reshape((train.shape[0]*train.shape[1], train.shape[2])) # shape: [weeks*days, sensors]\n",
        "# check shape\n",
        "train.shape"
      ],
      "execution_count": null,
      "outputs": [
        {
          "output_type": "execute_result",
          "data": {
            "text/plain": [
              "(1008, 7)"
            ]
          },
          "metadata": {
            "tags": []
          },
          "execution_count": 33
        }
      ]
    },
    {
      "cell_type": "code",
      "metadata": {
        "id": "H-c7x6mi6wkh",
        "colab": {
          "base_uri": "https://localhost:8080/"
        },
        "outputId": "5d0812da-59b1-4fd1-c8b0-4a8305008866"
      },
      "source": [
        "# flatten the test data over all weeks \n",
        "test = test.reshape((test.shape[0]*test.shape[1], test.shape[2])) # shape: [weeks*days, sensors]\n",
        "# check shape\n",
        "test.shape"
      ],
      "execution_count": null,
      "outputs": [
        {
          "output_type": "execute_result",
          "data": {
            "text/plain": [
              "(427, 7)"
            ]
          },
          "metadata": {
            "tags": []
          },
          "execution_count": 34
        }
      ]
    },
    {
      "cell_type": "code",
      "metadata": {
        "id": "TjG-FLHR4QZz"
      },
      "source": [
        "def supervised_setup(data, column):\n",
        "  # data: expects train/test set with 2 dimensions of (samples, features)- i.e. one sensor reading\n",
        "  # column: expects integer indicating column number of meter of interest\n",
        "\n",
        "  X, y = [], [] # start with empty lists for X and y\n",
        "  input_start = 0 # iterator\n",
        "  n_input = 7 # we want 7 days as input\n",
        "  n_out = 7 # we want 7 days as output\n",
        "\n",
        "  # step over the entire history one time step at a time\n",
        "  for i in range(len(data)):\n",
        "\t  # define the end of the input and corresponding output\n",
        "\t  input_end = input_start + n_input\n",
        "\t  output_end = input_end + n_out\n",
        "\t\n",
        "    # ensure we have enough data for this instance\n",
        "\t  if output_end < len(data):\n",
        "\t\t  x_input = data[input_start:input_end, column]\n",
        "\t\t  x_input = x_input.reshape((len(x_input), 1))\n",
        "  \n",
        "\t\t  X.append(x_input)\n",
        "\t\t  y.append(data[input_end:output_end, column])\n",
        "  \n",
        "\t  # move along one time step\n",
        "\t  input_start += 1\n",
        "  return np.array(X), np.array(y)\n",
        "\n",
        "# TRY IT:\n",
        "\n",
        "# split the data for the \"total active power\", i.e. column = 0\n",
        "X_train, y_train = supervised_setup(train, 0)\n",
        "X_test, y_test = supervised_setup(test, 0)"
      ],
      "execution_count": null,
      "outputs": []
    },
    {
      "cell_type": "markdown",
      "metadata": {
        "id": "gBkQAVq-ZmC9"
      },
      "source": [
        "# **3. Building Time-series Models**"
      ]
    },
    {
      "cell_type": "markdown",
      "metadata": {
        "id": "MfPGRv_M8L6n"
      },
      "source": [
        "Recall, our dataset has different measures. Let's look at them again."
      ]
    },
    {
      "cell_type": "code",
      "metadata": {
        "id": "WDgsWWnX8PnP",
        "colab": {
          "base_uri": "https://localhost:8080/",
          "height": 340
        },
        "outputId": "a0fb74e0-a385-4360-b1c6-33f418652ac3"
      },
      "source": [
        "daily_data.head()"
      ],
      "execution_count": null,
      "outputs": [
        {
          "output_type": "execute_result",
          "data": {
            "text/html": [
              "<div>\n",
              "<style scoped>\n",
              "    .dataframe tbody tr th:only-of-type {\n",
              "        vertical-align: middle;\n",
              "    }\n",
              "\n",
              "    .dataframe tbody tr th {\n",
              "        vertical-align: top;\n",
              "    }\n",
              "\n",
              "    .dataframe thead th {\n",
              "        text-align: right;\n",
              "    }\n",
              "</style>\n",
              "<table border=\"1\" class=\"dataframe\">\n",
              "  <thead>\n",
              "    <tr style=\"text-align: right;\">\n",
              "      <th></th>\n",
              "      <th>Global_active_power</th>\n",
              "      <th>Global_reactive_power</th>\n",
              "      <th>Voltage</th>\n",
              "      <th>Global_intensity</th>\n",
              "      <th>Sub_metering_1</th>\n",
              "      <th>Sub_metering_2</th>\n",
              "      <th>Sub_metering_3</th>\n",
              "    </tr>\n",
              "    <tr>\n",
              "      <th>datetime</th>\n",
              "      <th></th>\n",
              "      <th></th>\n",
              "      <th></th>\n",
              "      <th></th>\n",
              "      <th></th>\n",
              "      <th></th>\n",
              "      <th></th>\n",
              "    </tr>\n",
              "  </thead>\n",
              "  <tbody>\n",
              "    <tr>\n",
              "      <th>2006-12-16</th>\n",
              "      <td>1209.176025</td>\n",
              "      <td>34.922001</td>\n",
              "      <td>93552.53125</td>\n",
              "      <td>5180.799805</td>\n",
              "      <td>0.0</td>\n",
              "      <td>546.0</td>\n",
              "      <td>4926.0</td>\n",
              "    </tr>\n",
              "    <tr>\n",
              "      <th>2006-12-17</th>\n",
              "      <td>3390.459961</td>\n",
              "      <td>226.005997</td>\n",
              "      <td>345725.31250</td>\n",
              "      <td>14398.599609</td>\n",
              "      <td>2033.0</td>\n",
              "      <td>4187.0</td>\n",
              "      <td>13341.0</td>\n",
              "    </tr>\n",
              "    <tr>\n",
              "      <th>2006-12-18</th>\n",
              "      <td>2203.825928</td>\n",
              "      <td>161.792007</td>\n",
              "      <td>347373.62500</td>\n",
              "      <td>9247.200195</td>\n",
              "      <td>1063.0</td>\n",
              "      <td>2621.0</td>\n",
              "      <td>14018.0</td>\n",
              "    </tr>\n",
              "    <tr>\n",
              "      <th>2006-12-19</th>\n",
              "      <td>1666.193970</td>\n",
              "      <td>150.942001</td>\n",
              "      <td>348479.00000</td>\n",
              "      <td>7094.000000</td>\n",
              "      <td>839.0</td>\n",
              "      <td>7602.0</td>\n",
              "      <td>6197.0</td>\n",
              "    </tr>\n",
              "    <tr>\n",
              "      <th>2006-12-20</th>\n",
              "      <td>2225.748047</td>\n",
              "      <td>160.998001</td>\n",
              "      <td>348923.62500</td>\n",
              "      <td>9313.000000</td>\n",
              "      <td>0.0</td>\n",
              "      <td>2648.0</td>\n",
              "      <td>14063.0</td>\n",
              "    </tr>\n",
              "  </tbody>\n",
              "</table>\n",
              "</div>"
            ],
            "text/plain": [
              "            Global_active_power  ...  Sub_metering_3\n",
              "datetime                         ...                \n",
              "2006-12-16          1209.176025  ...          4926.0\n",
              "2006-12-17          3390.459961  ...         13341.0\n",
              "2006-12-18          2203.825928  ...         14018.0\n",
              "2006-12-19          1666.193970  ...          6197.0\n",
              "2006-12-20          2225.748047  ...         14063.0\n",
              "\n",
              "[5 rows x 7 columns]"
            ]
          },
          "metadata": {
            "tags": []
          },
          "execution_count": 36
        }
      ]
    },
    {
      "cell_type": "markdown",
      "metadata": {
        "id": "630QZ8Zo8TUv"
      },
      "source": [
        "**What is it that we want to predict?**\n",
        "\n",
        "*   Univariate Forecasting - choose one specific measure that you want to carry out predictions on. Only need one model. \n",
        "*   Multivariate Forecasting - carry out predictions on multiple measures. Build a model for each measure OR feed each as a separate channel to the neural network (remember how we treat RGB channels in computer vision).\n",
        "\n",
        "**First.** We will build a univariate prediction model to predict the next week consumption levels of total active power in the household (that is, column 0). Notice, predicting the next week consumption, day by day, is a multi-step ahead prediction where we are predicting SEVEN future values at once. \n",
        "\n",
        "If we were doing one day ahead prediction, this would correspond to one-step ahead prediction.\n",
        "\n"
      ]
    },
    {
      "cell_type": "code",
      "metadata": {
        "id": "ZW1uSlQ29PUc"
      },
      "source": [
        "# split the data for \"total active power\" -- (we had already done this previously)\n",
        "X_train, y_train = supervised_setup(train, 0)\n",
        "X_test, y_test = supervised_setup(test, 0)"
      ],
      "execution_count": null,
      "outputs": []
    },
    {
      "cell_type": "markdown",
      "metadata": {
        "id": "sxv5asfx9Vna"
      },
      "source": [
        "Let's build our prediction model!\n",
        "\n",
        "**What type of neural network would we use here?**"
      ]
    },
    {
      "cell_type": "code",
      "metadata": {
        "id": "Em5NSd69-eCy"
      },
      "source": [
        "from keras.models import Sequential\n",
        "from keras.layers import Dense\n",
        "from keras.layers import LSTM"
      ],
      "execution_count": null,
      "outputs": []
    },
    {
      "cell_type": "markdown",
      "metadata": {
        "id": "pru3jntw95Wp"
      },
      "source": [
        "We will run a Long-Short Term Memory (LSTM) network since we are dealing with sequential data *(similar to dealing with language)*."
      ]
    },
    {
      "cell_type": "code",
      "metadata": {
        "id": "mXwmmopl8Lic",
        "colab": {
          "base_uri": "https://localhost:8080/"
        },
        "outputId": "5ea36d27-4420-4f39-fb82-7a45a2b32174"
      },
      "source": [
        "# let's define some parameters for our LSTM model\n",
        "n_inputs, n_channels, n_outputs = X_train.shape[1], X_train.shape[2], X_train.shape[1]\n",
        "n_cells, n_neurons = 64, 20\n",
        "\n",
        "# build the network archiecture\n",
        "model = Sequential()\n",
        "model.add(LSTM(n_cells, activation='relu', input_shape=(n_inputs, n_channels))) # set return_sequences=True to add new LSTM layer  \n",
        "#model.add(LSTM(n_cells, activation='relu', return_sequences=True))\n",
        "#model.add(LSTM(n_cells))\n",
        "model.add(Dense(n_neurons, activation='relu'))\n",
        "model.add(Dense(n_outputs))\n",
        "\n",
        "# compile the model\n",
        "# we define the mean squared error as an evaluation metric for training & define ADAM as an optimization algorithm \n",
        "model.compile(loss='mse', optimizer='adam')\n",
        "\t\n",
        "# train the network\n",
        "model.fit(X_train, y_train, epochs=50, batch_size=16, verbose=0)"
      ],
      "execution_count": null,
      "outputs": [
        {
          "output_type": "stream",
          "text": [
            "WARNING:tensorflow:Layer lstm will not use cuDNN kernel since it doesn't meet the cuDNN kernel criteria. It will use generic GPU kernel as fallback when running on GPU\n"
          ],
          "name": "stdout"
        },
        {
          "output_type": "execute_result",
          "data": {
            "text/plain": [
              "<tensorflow.python.keras.callbacks.History at 0x7f4d40616a10>"
            ]
          },
          "metadata": {
            "tags": []
          },
          "execution_count": 39
        }
      ]
    },
    {
      "cell_type": "markdown",
      "metadata": {
        "id": "QloKlxFwZvy6"
      },
      "source": [
        "# **4. Evaluating Time-series Models**"
      ]
    },
    {
      "cell_type": "markdown",
      "metadata": {
        "id": "IzJ4SHFK_Nnd"
      },
      "source": [
        "Recall, we want our input (X) and output (y) to look like:\n",
        "\n",
        "```\n",
        "[Input], [Output]\n",
        "[d01, d02, d03, d04, d05, d06, d07], [d08, d09, d10, d11, d12, d13, d14]\n",
        "[d02, d03, d04, d05, d06, d07, d08], [d09, d10, d11, d12, d13, d14, d15]\n",
        "Etc ...\n",
        "```"
      ]
    },
    {
      "cell_type": "markdown",
      "metadata": {
        "id": "N2XkIi6t_2-O"
      },
      "source": [
        "#### Walk-forward validation setup"
      ]
    },
    {
      "cell_type": "code",
      "metadata": {
        "id": "Zh4cMS-q_tDe"
      },
      "source": [
        "# make a single prediction\n",
        "def forecast(model, history, n_input):\n",
        "\t# flatten data\n",
        "\tdata = np.array(history)\n",
        "\tdata = data.reshape((data.shape[0]*data.shape[1], data.shape[2]))\n",
        "\t\n",
        "  # retrieve last observations for input data\n",
        "\tinput_x = data[-n_input:, 0]\n",
        "\t\n",
        "  # reshape into [1, n_input, 1]\n",
        "\tinput_x = input_x.reshape((1, len(input_x), 1))\n",
        "\t\n",
        "  # forecast the next week\n",
        "\tpredicted_y = model.predict(input_x, verbose=0)\n",
        "\t\n",
        "  # we only want the vector forecast\n",
        "\tpredicted_y = predicted_y[0]\n",
        "\treturn predicted_y\n"
      ],
      "execution_count": null,
      "outputs": []
    },
    {
      "cell_type": "code",
      "metadata": {
        "id": "SrcmpBSr_1Er"
      },
      "source": [
        "# To start evaluating our model, we can start from the last week in our training data\n",
        "history = [x for x in X_train] # converting history into a list\n",
        "n_input = 7\n",
        "\n",
        "# We do walk-forward validation for each week\n",
        "predictions = []\n",
        "\t\n",
        "for i in range(len(X_test)):\n",
        "\t# predict the week\n",
        "\ty_predicted = forecast(model, history, n_input) \n",
        "\t# collect predictions\n",
        "\tpredictions.append(y_predicted)\n",
        "\t# get real observation and add it to my history \n",
        "\thistory.append(X_test[i,:])"
      ],
      "execution_count": null,
      "outputs": []
    },
    {
      "cell_type": "markdown",
      "metadata": {
        "id": "xKxiOwpr_6Pn"
      },
      "source": [
        "#### Model Evaluation"
      ]
    },
    {
      "cell_type": "code",
      "metadata": {
        "id": "qm0ytngp_5aS"
      },
      "source": [
        "from sklearn.metrics import mean_squared_error\n",
        "\n",
        "# Now, we want to evaluate our model\n",
        "predictions = np.array(predictions) # converting from list to np.array\n",
        "\n",
        "# But we want to see how well our model is doing day by day \n",
        "scores = []\n",
        "# calculate an RMSE score for each day\n",
        "for i in range(y_test.shape[1]): # Loop over the days of each week (shape[1] refers to the days)\n",
        "  # calculate mse for each day\n",
        "  mse = mean_squared_error(y_test[:, i], predictions[:, i])\n",
        "  rmse = np.sqrt(mse)\n",
        "\t# store\n",
        "  scores.append(rmse)\n",
        " \n",
        "# calculate overall RMSE for the entire week\n",
        "weekly_score = np.array(scores).mean()"
      ],
      "execution_count": null,
      "outputs": []
    },
    {
      "cell_type": "code",
      "metadata": {
        "id": "RN5sdWrh_wsC",
        "colab": {
          "base_uri": "https://localhost:8080/",
          "height": 299
        },
        "outputId": "8e5ecb85-edd6-4aa0-93bf-c1f675e9e064"
      },
      "source": [
        "# print and plot scores\n",
        "days = ['mon', 'tue', 'wed', 'thr', 'fri', 'sat', 'sun']\n",
        "print('[AVG] %s: \\n [%.3f] %s' % (days, weekly_score, scores))\n",
        "\n",
        "plt.plot(days, scores, marker='o', label='lstm')\n",
        "plt.show()"
      ],
      "execution_count": null,
      "outputs": [
        {
          "output_type": "stream",
          "text": [
            "[AVG] ['mon', 'tue', 'wed', 'thr', 'fri', 'sat', 'sun']: \n",
            " [403.635] [385.623, 390.63083, 395.7297, 400.64764, 403.57147, 416.79132, 432.45132]\n"
          ],
          "name": "stdout"
        },
        {
          "output_type": "display_data",
          "data": {
            "image/png": "[encoded data removed]",
            "text/plain": [
              "<Figure size 432x288 with 1 Axes>"
            ]
          },
          "metadata": {
            "tags": [],
            "needs_background": "light"
          }
        }
      ]
    },
    {
      "cell_type": "markdown",
      "metadata": {
        "id": "OYpFe1vgZE8P"
      },
      "source": [
        "### Visual validation of model performance: Predictions versus Observations"
      ]
    },
    {
      "cell_type": "code",
      "metadata": {
        "id": "jcRh2kLqZFQd"
      },
      "source": [
        "# storing observations and model outputs in dataframes\n",
        "true = pd.DataFrame(y_test[:,0]) # first day 2009-09-21\n",
        "pred = pd.DataFrame(predictions[:,0])"
      ],
      "execution_count": null,
      "outputs": []
    },
    {
      "cell_type": "code",
      "metadata": {
        "id": "zoaYKWCRZGpt"
      },
      "source": [
        "# creating a datetime index for the dataframes\n",
        "dti = pd.date_range('2009-09-21', periods=427, freq='D') # first day of test samples: 2009-09-21"
      ],
      "execution_count": null,
      "outputs": []
    },
    {
      "cell_type": "code",
      "metadata": {
        "id": "d5fH6S31ZIFR",
        "colab": {
          "base_uri": "https://localhost:8080/",
          "height": 443
        },
        "outputId": "1209d169-7d20-41e2-b2a0-231dc9d587a5"
      },
      "source": [
        "# overlay observed sequence and predicted sequence\n",
        "ax = true.plot()\n",
        "pred.plot(ax=ax, alpha=.8, figsize=(14, 7))\n",
        "\n",
        "xi = list(range(len(dti)))\n",
        "plt.xticks(np.arange(min(xi), max(xi), 50), dti.date[np.arange(min(xi), max(xi), 50)])\n",
        "\n",
        "ax.set_xlabel('Date')\n",
        "ax.set_ylabel('Global Active Power (kW/day)')\n",
        "plt.legend(['observed','predictions'])\n",
        "plt.show()"
      ],
      "execution_count": null,
      "outputs": [
        {
          "output_type": "display_data",
          "data": {
            "image/png": "[encoded data removed]",
            "text/plain": [
              "<Figure size 1008x504 with 1 Axes>"
            ]
          },
          "metadata": {
            "tags": [],
            "needs_background": "light"
          }
        }
      ]
    },
    {
      "cell_type": "markdown",
      "metadata": {
        "id": "Jcz_uvYjdtOs"
      },
      "source": [
        "**References**\n",
        "\n",
        "The dataset was downloaded from the [UCI Machine Learning Repository](https://archive.ics.uci.edu/ml/datasets/individual+household+electric+power+consumption#).\n",
        "\n",
        "Tutorial inspired by [Machine Learning Mastery](https://machinelearningmastery.com/multi-step-time-series-forecasting-with-machine-learning-models-for-household-electricity-consumption/)"
      ]
    }
  ]
}